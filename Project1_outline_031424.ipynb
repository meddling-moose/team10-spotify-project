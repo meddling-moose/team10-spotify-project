{
 "cells": [
  {
   "cell_type": "code",
   "execution_count": null,
   "id": "30b86d01-9224-4fac-bff7-02ce946c491b",
   "metadata": {},
   "outputs": [],
   "source": [
    "#Project Overview: Spotify user music analysis - group #10\n",
    "#Date created: 3/14/24\n",
    "\n",
    "#Project title: \n",
    "#Exploratory data analysis using data from Spotify data API.\n",
    "\n",
    "#Team members:\n",
    "#Chris\n",
    "#Divya\n",
    "#Ryan\n",
    "\n",
    "#Project description/outline:\n",
    "# Analyzing user profiles / behaviors / genres, top artists within a genre, overlaying geographic analysis.\n",
    "#Weather + geo + user behavior to analyze user genre preferences (q: does weather + geo influence music listening / production behaviors?)\n",
    "#Make sure to be careful about using historical data - advice from Marc\n",
    "\n",
    "#Research questions to answer:\n",
    "#Visualize the differences between genres across countries\n",
    "#User listening behaviors (# of songs, repeats, listening history, genre preferences, etc.) by genre by country\n",
    "#Explore user artist preferences between countries by genres\n",
    "\n",
    "#Datasets to be used:\n",
    "#Spotify API: https://github.com/iamsumat/Spotify-Master-Analysis \n",
    "#Previous Spotify API project referenced: https://github.com/iamsumat/Spotify-Master-Analysis/blob/master/Spotify%20Artists%20%26%20Music%20EDA.ipynb"
   ]
  },
  {
   "cell_type": "code",
   "execution_count": null,
   "id": "eed8d108-5b3e-49ab-ba51-c3d592481f46",
   "metadata": {},
   "outputs": [],
   "source": [
    "#Step 0: Formalize questions we want to ask of the data\n",
    "\n",
    "#Question 1: Visualize the user preference differences between genres across countries. How are same/different? Why? Any hypotheses? Does the data support?\n",
    "#[Q: Do we need to make this question more specific Divya/Ryan? If so, how?]\n",
    "\n",
    "#Question 2: #User listening behaviors (# of songs, repeats, listening history, genre preferences, etc.) by genre by country. How are same/different? Why?\n",
    "#[Q: Do we need to make this question more specific Divya/Ryan? If so, how?]\n",
    "\n",
    "#Question 3: #Explore user artist preferences between countries by genres. Same/different? Why?\n",
    "#[Q: Do we need to make this question more specific Divya/Ryan? If so, how?]"
   ]
  },
  {
   "cell_type": "code",
   "execution_count": null,
   "id": "638a58ef-e5c6-486e-a7fc-b722b8eb2583",
   "metadata": {},
   "outputs": [],
   "source": [
    "#Step 1: Finalize the questions. Pull the data, evaluate the data, revise questions as needed. "
   ]
  },
  {
   "cell_type": "code",
   "execution_count": null,
   "id": "00b55c39-8b82-4c64-b90a-5a5ef3f6acf1",
   "metadata": {},
   "outputs": [],
   "source": [
    "#Step 2: Clean the data. Finalize the data set(s) needed to analyze and answer our questions. [Q: Do we want to use API or download the data?]"
   ]
  },
  {
   "cell_type": "code",
   "execution_count": null,
   "id": "173293b3-ae8e-48d7-a318-41b0a191a421",
   "metadata": {},
   "outputs": [],
   "source": [
    "#Step 2a: Examine Spotify documentation to identify where appropriate data resides & how to cross to build analysis."
   ]
  },
  {
   "cell_type": "code",
   "execution_count": null,
   "id": "55d07cf8-92fd-42c1-92a9-6704e321056f",
   "metadata": {},
   "outputs": [],
   "source": [
    "#Example: \"Country\" attribute sits in \"Get Current User Profile\" dataset. Music category sits in \"Categories\" dataset."
   ]
  },
  {
   "cell_type": "code",
   "execution_count": null,
   "id": "e81f3212-505f-4bdd-8f1a-2b90caaa8221",
   "metadata": {},
   "outputs": [],
   "source": [
    "#[Q: What is the best way to get a sense of what data we need and how it answers (or shapes) our questions?]"
   ]
  },
  {
   "cell_type": "code",
   "execution_count": null,
   "id": "ac27f53b-cb79-4431-91c0-53b96c4c6d92",
   "metadata": {},
   "outputs": [],
   "source": [
    "#Step 3: Analyze data for insights and highlights."
   ]
  },
  {
   "cell_type": "code",
   "execution_count": null,
   "id": "76f04ced-f748-467b-b1a9-1d8798d041fd",
   "metadata": {},
   "outputs": [],
   "source": [
    "#Step 3a: Divide and conquer on analyzing and visualizing the data. Chris/Divya/Ryan take 1 question, do the work. Bring back to the team to finalize."
   ]
  },
  {
   "cell_type": "code",
   "execution_count": null,
   "id": "6543c0b9-b62c-457c-bad2-381dcbb1b68f",
   "metadata": {},
   "outputs": [],
   "source": [
    "#Step 4: Visualize the data."
   ]
  },
  {
   "cell_type": "code",
   "execution_count": null,
   "id": "74f30bf5-f3a5-46aa-abd6-a2bd44543ba4",
   "metadata": {},
   "outputs": [],
   "source": [
    "#Step 4a: Each team member owns output for one question, creating it initially, revising it per team feedback."
   ]
  },
  {
   "cell_type": "code",
   "execution_count": null,
   "id": "5475492c-f8ed-4353-9594-e2dba29dd361",
   "metadata": {},
   "outputs": [],
   "source": [
    "#Step 5: Summarize data findings and present highlights."
   ]
  },
  {
   "cell_type": "code",
   "execution_count": null,
   "id": "e89dd182-f40d-4922-b2a1-3bd804f6b0d6",
   "metadata": {},
   "outputs": [],
   "source": [
    "#Step 6: Build the findings presentation."
   ]
  },
  {
   "cell_type": "code",
   "execution_count": null,
   "id": "8a841912-3ede-42fb-a323-c05402a910f6",
   "metadata": {},
   "outputs": [],
   "source": [
    "#Step 6a: Team agrees on the overall \"story.\" Agrees on highlights format/template."
   ]
  },
  {
   "cell_type": "code",
   "execution_count": null,
   "id": "53fa98da-b2e9-424c-9ba3-92f2b289fe27",
   "metadata": {},
   "outputs": [],
   "source": [
    "#Step 6b: Team agrees on presentation format / template. [Q: Use Google Slides or Powerpoint?]"
   ]
  },
  {
   "cell_type": "code",
   "execution_count": null,
   "id": "ab013474-d779-4dac-b05e-33dd06332399",
   "metadata": {},
   "outputs": [],
   "source": [
    "#Step 6c: Each team members builds slide(s) for their question. Team reviews / finalizes."
   ]
  },
  {
   "cell_type": "code",
   "execution_count": null,
   "id": "307f426f-a1b1-496a-aee0-69b2b608886d",
   "metadata": {},
   "outputs": [],
   "source": [
    "#Step 7: Present findings. Team to co-present findings in class the week of 3/25. "
   ]
  }
 ],
 "metadata": {
  "kernelspec": {
   "display_name": "Python 3 (ipykernel)",
   "language": "python",
   "name": "python3"
  },
  "language_info": {
   "codemirror_mode": {
    "name": "ipython",
    "version": 3
   },
   "file_extension": ".py",
   "mimetype": "text/x-python",
   "name": "python",
   "nbconvert_exporter": "python",
   "pygments_lexer": "ipython3",
   "version": "3.10.13"
  }
 },
 "nbformat": 4,
 "nbformat_minor": 5
}
